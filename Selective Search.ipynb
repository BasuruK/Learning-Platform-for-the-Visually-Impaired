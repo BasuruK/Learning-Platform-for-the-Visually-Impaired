{
 "cells": [
  {
   "cell_type": "code",
   "execution_count": 11,
   "metadata": {
    "collapsed": true
   },
   "outputs": [],
   "source": [
    "import skimage.data\n",
    "import selectivesearch\n",
    "from skimage import io\n",
    "import matplotlib.pyplot as plt\n",
    "import matplotlib.patches as mpatches\n",
    "import cv2\n",
    "%matplotlib inline\n",
    "from imutils.object_detection import non_max_suppression\n",
    "import numpy as np"
   ]
  },
  {
   "cell_type": "code",
   "execution_count": 22,
   "metadata": {
    "collapsed": true
   },
   "outputs": [],
   "source": [
    "#img = io.imread('C:/Users/Basuru Kusal/Pictures/Camera Roll/lon.jpg')\n",
    "#img = io.imread('D:/Python Tutorials/Datasets/persons/person_421.bmp')\n",
    "img = io.imread('custom_test/d')\n"
   ]
  },
  {
   "cell_type": "code",
   "execution_count": 23,
   "metadata": {
    "collapsed": true
   },
   "outputs": [],
   "source": [
    "img_lbl, regions = selectivesearch.selective_search(img, scale=500, sigma=0.8, min_size=500)"
   ]
  },
  {
   "cell_type": "code",
   "execution_count": 24,
   "metadata": {
    "collapsed": true
   },
   "outputs": [],
   "source": [
    "candidates = set()"
   ]
  },
  {
   "cell_type": "code",
   "execution_count": 25,
   "metadata": {
    "collapsed": true
   },
   "outputs": [],
   "source": [
    "for r in regions:\n",
    "    if r['rect'] in candidates:\n",
    "        continue\n",
    "    if r['size'] < 5000:\n",
    "        continue\n",
    "        \n",
    "    x , y, w, h = r['rect']\n",
    "    if((w / h) > 1.2 or (h / w) > 1.2):\n",
    "        continue\n",
    "        \n",
    "    candidates.add(r['rect'])"
   ]
  },
  {
   "cell_type": "code",
   "execution_count": 26,
   "metadata": {},
   "outputs": [
    {
     "data": {
      "text/plain": [
       "{(0, 297, 344, 303),\n",
       " (0, 297, 344, 326),\n",
       " (0, 298, 344, 302),\n",
       " (0, 505, 290, 262),\n",
       " (362, 359, 136, 131),\n",
       " (362, 363, 125, 127),\n",
       " (414, 50, 148, 141),\n",
       " (604, 199, 422, 416),\n",
       " (681, 317, 345, 298),\n",
       " (744, 377, 136, 120),\n",
       " (744, 377, 159, 180),\n",
       " (764, 330, 161, 153),\n",
       " (764, 330, 161, 180)}"
      ]
     },
     "execution_count": 26,
     "metadata": {},
     "output_type": "execute_result"
    }
   ],
   "source": [
    "candidates"
   ]
  },
  {
   "cell_type": "code",
   "execution_count": 27,
   "metadata": {
    "collapsed": true
   },
   "outputs": [],
   "source": [
    "rects = np.array([[x, y, x + w, y + h] for (x, y, w, h) in candidates])\n",
    "pics = non_max_suppression(rects, probs=None, overlapThresh=0.65)\n",
    "\n",
    "for (xA, yA, xB, yB) in pics:\n",
    "\t\tcv2.rectangle(img, (xA, yA), (xB, yB), (0, 255, 0), 2)\n",
    "        \n",
    "cv2.imshow('ss', img)\n",
    "cv2.waitKey(0)\n",
    "cv2.destroyAllWindows()"
   ]
  },
  {
   "cell_type": "code",
   "execution_count": 18,
   "metadata": {},
   "outputs": [
    {
     "data": {
      "text/plain": [
       "\"fig, ax = plt.subplots(ncols=1,nrows=1, figsize=(25,25))\\nax.imshow(img)\\n\\nfor x, y, w, h in pics:\\n    print(x , y, w, h)\\n    rect = mpatches.Rectangle((x, y), w, h, fill=False, edgecolor='red', linewidth=1)\\n    ax.add_patch(rect)\\n    \\nplt.show()\\n\""
      ]
     },
     "execution_count": 18,
     "metadata": {},
     "output_type": "execute_result"
    }
   ],
   "source": [
    "'''fig, ax = plt.subplots(ncols=1,nrows=1, figsize=(25,25))\n",
    "ax.imshow(img)\n",
    "\n",
    "for x, y, w, h in pics:\n",
    "    print(x , y, w, h)\n",
    "    rect = mpatches.Rectangle((x, y), w, h, fill=False, edgecolor='red', linewidth=1)\n",
    "    ax.add_patch(rect)\n",
    "    \n",
    "plt.show()\n",
    "'''"
   ]
  },
  {
   "cell_type": "code",
   "execution_count": 9,
   "metadata": {
    "collapsed": true
   },
   "outputs": [],
   "source": [
    "#cv2.imshow()"
   ]
  },
  {
   "cell_type": "code",
   "execution_count": 10,
   "metadata": {
    "collapsed": true
   },
   "outputs": [],
   "source": [
    "#plt.imshow(img_lbl)\n",
    "#plt.show()"
   ]
  },
  {
   "cell_type": "code",
   "execution_count": null,
   "metadata": {
    "collapsed": true
   },
   "outputs": [],
   "source": []
  },
  {
   "cell_type": "code",
   "execution_count": null,
   "metadata": {
    "collapsed": true
   },
   "outputs": [],
   "source": []
  },
  {
   "cell_type": "code",
   "execution_count": null,
   "metadata": {
    "collapsed": true
   },
   "outputs": [],
   "source": []
  }
 ],
 "metadata": {
  "kernelspec": {
   "display_name": "Python 3",
   "language": "python",
   "name": "python3"
  },
  "language_info": {
   "codemirror_mode": {
    "name": "ipython",
    "version": 3
   },
   "file_extension": ".py",
   "mimetype": "text/x-python",
   "name": "python",
   "nbconvert_exporter": "python",
   "pygments_lexer": "ipython3",
   "version": "3.5.3"
  }
 },
 "nbformat": 4,
 "nbformat_minor": 2
}
