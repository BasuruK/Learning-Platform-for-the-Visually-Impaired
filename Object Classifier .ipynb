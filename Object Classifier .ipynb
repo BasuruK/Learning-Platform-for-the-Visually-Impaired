{
 "cells": [
  {
   "cell_type": "code",
   "execution_count": null,
   "metadata": {
    "collapsed": true
   },
   "outputs": [],
   "source": [
    "'''\n",
    "# This model trains a CNN using Sequential model in Keras.\n",
    "# The CNN is a Deep CNN with 2 Convolutional Layers followed by a Artificial Neural Network with 2 hiden layers of\n",
    "# 128 and 256 nodes in each with ReLU activation function followed by an Softmax output layer\n",
    "'''"
   ]
  },
  {
   "cell_type": "code",
   "execution_count": null,
   "metadata": {},
   "outputs": [],
   "source": [
    "# Importing Keras and Tensorflow modules\n",
    "\n",
    "import tensorflow as tf\n",
    "import keras\n",
    "from keras.models import Sequential\n",
    "from keras.layers import Conv2D\n",
    "from keras.layers import MaxPooling2D\n",
    "from keras.layers import Flatten\n",
    "from keras.layers import Dense\n",
    "from keras.preprocessing.image import ImageDataGenerator\n",
    "from keras.preprocessing import image\n",
    "from keras.models import load_model\n",
    "from keras.utils.np_utils import to_categorical\n",
    "from keras import backend as K\n",
    "from keras.callbacks import History\n",
    "import os.path\n",
    "import cv2, numpy as np\n",
    "import matplotlib.pyplot as plt\n",
    "\n",
    "    \n",
    "%matplotlib inline"
   ]
  },
  {
   "cell_type": "code",
   "execution_count": null,
   "metadata": {
    "collapsed": true
   },
   "outputs": [],
   "source": [
    "# Initilize the CNN\n",
    "\n",
    "classifier = Sequential()"
   ]
  },
  {
   "cell_type": "code",
   "execution_count": null,
   "metadata": {},
   "outputs": [],
   "source": [
    "# Step 1 - Convolution\n",
    "\n",
    "classifier.add(Conv2D(32, (3, 3), input_shape = (128, 128, 3), activation = 'relu'))"
   ]
  },
  {
   "cell_type": "code",
   "execution_count": null,
   "metadata": {},
   "outputs": [],
   "source": [
    "# Step 2 - Pooling\n",
    "\n",
    "classifier.add(MaxPooling2D(pool_size = (2, 2)))"
   ]
  },
  {
   "cell_type": "code",
   "execution_count": null,
   "metadata": {
    "collapsed": true
   },
   "outputs": [],
   "source": [
    "# Step 2(b) - Add 2nd Convolution Layer making it Deep followed by a Pooling Layer\n",
    "\n",
    "classifier.add(Conv2D(32, (3, 3), activation = 'relu'))\n",
    "classifier.add(MaxPooling2D(pool_size = (2, 2)))"
   ]
  },
  {
   "cell_type": "code",
   "execution_count": null,
   "metadata": {
    "collapsed": true
   },
   "outputs": [],
   "source": [
    "# Step 3 - Flattening\n",
    "\n",
    "classifier.add(Flatten())"
   ]
  },
  {
   "cell_type": "code",
   "execution_count": null,
   "metadata": {
    "collapsed": true
   },
   "outputs": [],
   "source": [
    "# Step 4 - Fully Connected Neural Network\n",
    "\n",
    "# Hidden Layer 1 - Activation Function RELU\n",
    "classifier.add(Dense(units = 128, activation = 'relu')) \n",
    "# Hidden Layer 2 - Activation Function RELU\n",
    "classifier.add(Dense(units = 256, activation = 'relu')) \n",
    "# Output Layer - Activation Function Softmax(to clasify multiple classes)\n",
    "classifier.add(Dense(units = 4, activation = 'softmax'))"
   ]
  },
  {
   "cell_type": "code",
   "execution_count": null,
   "metadata": {
    "collapsed": true
   },
   "outputs": [],
   "source": [
    "# Compile the CNN\n",
    "\n",
    "# Categorical Crossentropy - to classify between multiple classes of images\n",
    "classifier.compile(optimizer = 'adam', loss = 'categorical_crossentropy', metrics = ['accuracy'])"
   ]
  },
  {
   "cell_type": "code",
   "execution_count": null,
   "metadata": {
    "collapsed": true
   },
   "outputs": [],
   "source": [
    "# Image Augmentation and Training Section\n",
    "\n",
    "# Image Augmentation to prevent Overfitting (Applying random transformation on images to train set.ie. \n",
    "# scalling, rotating and streching)\n",
    "\n",
    "train_datagen = ImageDataGenerator(\n",
    "        rescale=1./255,\n",
    "        shear_range=0.2,\n",
    "        zoom_range=0.2,\n",
    "        horizontal_flip=True)\n",
    "\n",
    "test_datagen = ImageDataGenerator(rescale=1./255)"
   ]
  },
  {
   "cell_type": "code",
   "execution_count": null,
   "metadata": {},
   "outputs": [],
   "source": [
    "# Load the training dataset folder\n",
    "training_set = train_datagen.flow_from_directory(\n",
    "        'dataset/training_set',\n",
    "        target_size=(128, 128),\n",
    "        batch_size=16,\n",
    "        class_mode='categorical')"
   ]
  },
  {
   "cell_type": "code",
   "execution_count": null,
   "metadata": {},
   "outputs": [],
   "source": [
    "# Load the test data set folder\n",
    "test_set = test_datagen.flow_from_directory(\n",
    "        'dataset/test_set',\n",
    "        target_size=(128, 128),\n",
    "        batch_size=16,\n",
    "        class_mode='categorical')"
   ]
  },
  {
   "cell_type": "code",
   "execution_count": null,
   "metadata": {
    "collapsed": true
   },
   "outputs": [],
   "source": [
    "# Get the accuracy and loss data to plot the graph\n",
    "\n",
    "history = History()"
   ]
  },
  {
   "cell_type": "code",
   "execution_count": null,
   "metadata": {},
   "outputs": [],
   "source": [
    "#Fit the clasifier on the CNN data\n",
    "\n",
    "if(os.path.isfile('my_model.h5') == False):\n",
    "    classifier.fit_generator(\n",
    "            training_set,\n",
    "            steps_per_epoch=11004,\n",
    "            epochs=3,\n",
    "            validation_data=test_set,\n",
    "            validation_steps=4004,\n",
    "            callbacks = [history],\n",
    "            workers=2\n",
    "    )\n",
    "    # Save the generated model to my_model.h5\n",
    "    classifier.save('my_model.h5')\n",
    "else:\n",
    "    classifier = load_model('my_model.h5')\n",
    "    history = classifier\n",
    "        "
   ]
  },
  {
   "cell_type": "code",
   "execution_count": null,
   "metadata": {
    "collapsed": true
   },
   "outputs": [],
   "source": [
    "# Returns the labels for the classes according to the folder structre of clases\n",
    "def get_labels_for_clases():\n",
    "    return ['bird', 'car', 'cat', 'dog']\n",
    "\n",
    "# Run prediction for a single image\n",
    "def predict_for_single_image(image):\n",
    "    #lable the images according the folder structure\n",
    "    \n",
    "    lables = get_labels_for_clases()\n",
    "    out = classifier.predict_classes(image)\n",
    "    print(\"Prediction index : \", out)\n",
    "    print(\"Prediction : \", lables[out[0]])\n",
    "    #print(classifier.summary())\n",
    "\n",
    "# plot the graphs\n",
    "def plot_graphs_on_data(history):\n",
    "    \n",
    "    # Plot Accuracy\n",
    "    plt.plot(history.history['acc'])\n",
    "    plt.plot(history.history['val_acc'])\n",
    "    plt.title('Model Accuracy')\n",
    "    plt.ylabel('Accuracy')\n",
    "    plt.xlabel('Epocs')\n",
    "    plt.legend(['Train Data', 'Test Data'], loc = 'upper left')\n",
    "    plt.show()\n",
    "\n",
    "    #Plot Loss\n",
    "    plt.plot(history.history['loss'])\n",
    "    plt.plot(history.history['val_loss'])\n",
    "    plt.title('Model Loss')\n",
    "    plt.ylabel('Loss')\n",
    "    plt.xlabel('Epocs')\n",
    "    plt.legend(['Train Data', 'Test Data'], loc = 'upper left')\n",
    "    plt.show()"
   ]
  },
  {
   "cell_type": "code",
   "execution_count": null,
   "metadata": {},
   "outputs": [],
   "source": [
    "# Draw the Graph for the predicted Results\n",
    "# use this only after training.\n",
    "plot_graphs_on_data(history)"
   ]
  },
  {
   "cell_type": "code",
   "execution_count": null,
   "metadata": {},
   "outputs": [],
   "source": [
    "image = cv2.resize(cv2.imread('custom_test/car.png'), (128, 128)).astype(np.float32)\n",
    "image = image.reshape((-1,) + image.shape)\n",
    "\n",
    "predict_for_single_image(image)"
   ]
  },
  {
   "cell_type": "code",
   "execution_count": null,
   "metadata": {},
   "outputs": [],
   "source": []
  },
  {
   "cell_type": "code",
   "execution_count": null,
   "metadata": {},
   "outputs": [],
   "source": []
  },
  {
   "cell_type": "code",
   "execution_count": null,
   "metadata": {
    "collapsed": true
   },
   "outputs": [],
   "source": []
  }
 ],
 "metadata": {
  "kernelspec": {
   "display_name": "Python 3",
   "language": "python",
   "name": "python3"
  },
  "language_info": {
   "codemirror_mode": {
    "name": "ipython",
    "version": 3
   },
   "file_extension": ".py",
   "mimetype": "text/x-python",
   "name": "python",
   "nbconvert_exporter": "python",
   "pygments_lexer": "ipython3",
   "version": "3.5.3"
  }
 },
 "nbformat": 4,
 "nbformat_minor": 2
}
