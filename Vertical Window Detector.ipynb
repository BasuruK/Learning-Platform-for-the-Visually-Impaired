{
 "cells": [
  {
   "cell_type": "code",
   "execution_count": 1,
   "metadata": {},
   "outputs": [
    {
     "name": "stderr",
     "output_type": "stream",
     "text": [
      "Using TensorFlow backend.\n"
     ]
    }
   ],
   "source": [
    "import matplotlib.pyplot as plt\n",
    "import numpy as np\n",
    "from PIL import Image\n",
    "import math\n",
    "import skimage.io as imutils\n",
    "%matplotlib inline\n",
    "from keras.models import load_model\n",
    "from keras.preprocessing import image as keras_preprocess\n",
    "import os"
   ]
  },
  {
   "cell_type": "code",
   "execution_count": 45,
   "metadata": {
    "collapsed": true
   },
   "outputs": [],
   "source": [
    "#Image structure = > (Height, Width, Color_Channel)\n",
    "cat_image = Image.open('custom_test/cat.7.jpg')\n",
    "#Load the Classifier\n",
    "classifier = load_model('my_model.h5')\n",
    "\n",
    "# Returns the labels for the classes according to the folder structre of clases\n",
    "def get_labels_for_clases():\n",
    "    #return ['car', 'cat', 'dog', 'shoe']\n",
    "    return ['car' ,'cat', 'dog']\n",
    "\n",
    "# Run prediction for a single image\n",
    "def predict_for_single_image(image):\n",
    "    #lable the images according the folder structure\n",
    "\n",
    "    lables = get_labels_for_clases()\n",
    "    out = classifier.predict_classes(image, verbose=0)\n",
    "    return lables[out[0]]"
   ]
  },
  {
   "cell_type": "code",
   "execution_count": 46,
   "metadata": {
    "scrolled": true
   },
   "outputs": [
    {
     "name": "stdout",
     "output_type": "stream",
     "text": [
      "Image will be transformed in to a 4 x 5 grid\n"
     ]
    },
    {
     "name": "stderr",
     "output_type": "stream",
     "text": [
      "c:\\anaconda3\\envs\\tftest\\lib\\site-packages\\skimage\\io\\_io.py:132: UserWarning: custom_test/cutted/0.jpg is a low contrast image\n",
      "  warn('%s is a low contrast image' % fname)\n",
      "c:\\anaconda3\\envs\\tftest\\lib\\site-packages\\skimage\\io\\_io.py:132: UserWarning: custom_test/cutted/0_cat.jpg is a low contrast image\n",
      "  warn('%s is a low contrast image' % fname)\n",
      "c:\\anaconda3\\envs\\tftest\\lib\\site-packages\\skimage\\io\\_io.py:132: UserWarning: custom_test/cutted/1.jpg is a low contrast image\n",
      "  warn('%s is a low contrast image' % fname)\n",
      "c:\\anaconda3\\envs\\tftest\\lib\\site-packages\\skimage\\io\\_io.py:132: UserWarning: custom_test/cutted/1_cat.jpg is a low contrast image\n",
      "  warn('%s is a low contrast image' % fname)\n",
      "c:\\anaconda3\\envs\\tftest\\lib\\site-packages\\skimage\\io\\_io.py:132: UserWarning: custom_test/cutted/5.jpg is a low contrast image\n",
      "  warn('%s is a low contrast image' % fname)\n",
      "c:\\anaconda3\\envs\\tftest\\lib\\site-packages\\skimage\\io\\_io.py:132: UserWarning: custom_test/cutted/5_cat.jpg is a low contrast image\n",
      "  warn('%s is a low contrast image' % fname)\n"
     ]
    }
   ],
   "source": [
    "#save the image cordinates in a dictionary\n",
    "image_cordinates_grid = {}\n",
    "\n",
    "image_dimention_width = cat_image.size[0]\n",
    "image_dimention_height = cat_image.size[1]\n",
    "\n",
    "#if 100 x 100 window were to slide thought the image, identify the parameters for the loop condition\n",
    "slide_window_height_and_width = (512, 512)\n",
    "\n",
    "#Convert the image in to an numpy array\n",
    "image_array = np.array(cat_image)\n",
    "\n",
    "row_count_after_substraction = math.ceil(image_array.shape[0] / slide_window_height_and_width[0])\n",
    "col_count_after_substraction = math.ceil(image_array.shape[1] / slide_window_height_and_width[1])\n",
    "\n",
    "#Initialize x, y, w, h values\n",
    "x, y, w, h = 0, 0, slide_window_height_and_width[1], slide_window_height_and_width[0]\n",
    "count = 0\n",
    "print(\"Image will be transformed in to a\", row_count_after_substraction, \"x\", col_count_after_substraction, \"grid\")\n",
    "for row in range(0, row_count_after_substraction):\n",
    "    for col in range(0, col_count_after_substraction):\n",
    "        \n",
    "        #Change the X and Y locations respectivly to add the sliding window effect.\n",
    "        cropped_image = image_array[y : y + h, x : x + w]\n",
    "        saving_image = cropped_image\n",
    "        #Save the image\n",
    "        imutils.imsave(\"custom_test/cutted/\" + str(count) + \".jpg\",cropped_image)\n",
    "        image_cordinates_grid['rect_' + str(count)] = (x, y, w, h)\n",
    "\n",
    "        cropped_image = keras_preprocess.load_img('custom_test/cutted/' + str(count) + \".jpg\", target_size=((64, 64)))\n",
    "        cropped_image = keras_preprocess.img_to_array(cropped_image)\n",
    "        cropped_image = np.expand_dims(cropped_image, axis=0)\n",
    "        image_cordinates_grid['prediction_' + str(count)] = predict_for_single_image(cropped_image)\n",
    "        \n",
    "        #Delete existing image\n",
    "        os.remove(\"custom_test/cutted/\" + str(count) + \".jpg\")\n",
    "        #Lable image\n",
    "        imutils.imsave(\"custom_test/cutted/\" + str(count) + \"_\" + predict_for_single_image(cropped_image) + \".jpg\",saving_image)\n",
    "        x = x + w\n",
    "        count = count + 1\n",
    "    x = 0\n",
    "    y = y + h\n"
   ]
  },
  {
   "cell_type": "code",
   "execution_count": 38,
   "metadata": {},
   "outputs": [
    {
     "data": {
      "text/plain": [
       "{'prediction_0': 'cat',\n",
       " 'prediction_1': 'dog',\n",
       " 'prediction_10': 'dog',\n",
       " 'prediction_11': 'dog',\n",
       " 'prediction_12': 'car',\n",
       " 'prediction_13': 'cat',\n",
       " 'prediction_14': 'cat',\n",
       " 'prediction_15': 'cat',\n",
       " 'prediction_16': 'dog',\n",
       " 'prediction_17': 'cat',\n",
       " 'prediction_18': 'cat',\n",
       " 'prediction_19': 'dog',\n",
       " 'prediction_2': 'dog',\n",
       " 'prediction_20': 'dog',\n",
       " 'prediction_21': 'dog',\n",
       " 'prediction_22': 'cat',\n",
       " 'prediction_23': 'cat',\n",
       " 'prediction_24': 'cat',\n",
       " 'prediction_25': 'cat',\n",
       " 'prediction_26': 'dog',\n",
       " 'prediction_27': 'cat',\n",
       " 'prediction_28': 'dog',\n",
       " 'prediction_29': 'cat',\n",
       " 'prediction_3': 'dog',\n",
       " 'prediction_30': 'dog',\n",
       " 'prediction_31': 'dog',\n",
       " 'prediction_32': 'cat',\n",
       " 'prediction_33': 'cat',\n",
       " 'prediction_34': 'dog',\n",
       " 'prediction_4': 'dog',\n",
       " 'prediction_5': 'car',\n",
       " 'prediction_6': 'dog',\n",
       " 'prediction_7': 'cat',\n",
       " 'prediction_8': 'cat',\n",
       " 'prediction_9': 'car',\n",
       " 'rect_0': (0, 0, 512, 512),\n",
       " 'rect_1': (512, 0, 512, 512),\n",
       " 'rect_10': (1536, 512, 512, 512),\n",
       " 'rect_11': (2048, 512, 512, 512),\n",
       " 'rect_12': (2560, 512, 512, 512),\n",
       " 'rect_13': (3072, 512, 512, 512),\n",
       " 'rect_14': (0, 1024, 512, 512),\n",
       " 'rect_15': (512, 1024, 512, 512),\n",
       " 'rect_16': (1024, 1024, 512, 512),\n",
       " 'rect_17': (1536, 1024, 512, 512),\n",
       " 'rect_18': (2048, 1024, 512, 512),\n",
       " 'rect_19': (2560, 1024, 512, 512),\n",
       " 'rect_2': (1024, 0, 512, 512),\n",
       " 'rect_20': (3072, 1024, 512, 512),\n",
       " 'rect_21': (0, 1536, 512, 512),\n",
       " 'rect_22': (512, 1536, 512, 512),\n",
       " 'rect_23': (1024, 1536, 512, 512),\n",
       " 'rect_24': (1536, 1536, 512, 512),\n",
       " 'rect_25': (2048, 1536, 512, 512),\n",
       " 'rect_26': (2560, 1536, 512, 512),\n",
       " 'rect_27': (3072, 1536, 512, 512),\n",
       " 'rect_28': (0, 2048, 512, 512),\n",
       " 'rect_29': (512, 2048, 512, 512),\n",
       " 'rect_3': (1536, 0, 512, 512),\n",
       " 'rect_30': (1024, 2048, 512, 512),\n",
       " 'rect_31': (1536, 2048, 512, 512),\n",
       " 'rect_32': (2048, 2048, 512, 512),\n",
       " 'rect_33': (2560, 2048, 512, 512),\n",
       " 'rect_34': (3072, 2048, 512, 512),\n",
       " 'rect_4': (2048, 0, 512, 512),\n",
       " 'rect_5': (2560, 0, 512, 512),\n",
       " 'rect_6': (3072, 0, 512, 512),\n",
       " 'rect_7': (0, 512, 512, 512),\n",
       " 'rect_8': (512, 512, 512, 512),\n",
       " 'rect_9': (1024, 512, 512, 512)}"
      ]
     },
     "execution_count": 38,
     "metadata": {},
     "output_type": "execute_result"
    }
   ],
   "source": [
    "image_cordinates_grid"
   ]
  },
  {
   "cell_type": "code",
   "execution_count": 56,
   "metadata": {
    "scrolled": false
   },
   "outputs": [],
   "source": [
    "#Extract the relevent image cell to its corresponding prediction\n",
    "iteration_size = math.ceil(len(image_cordinates_grid) / 2)\n",
    "combined_grid = {}\n",
    "#Compare adjesent cells for the same prediction and combine them\n",
    "for i in range(0, iteration_size - 1):\n",
    "    if image_cordinates_grid['prediction_' + str(i)] == image_cordinates_grid['prediction_' + str(i + 1)]:\n",
    "        #Join the regions\n",
    "        combined_grid['prediction_' + str(i)] = image_cordinates_grid['prediction_' + str(i)]\n",
    "        cordinate_1 = image_cordinates_grid['rect_' + str(i)]\n",
    "        cordinate_2 = image_cordinates_grid['rect_' + str(i + 1)]\n",
    "        \n",
    "        #Join only in X axis\n",
    "        if cordinate_1[1] == cordinate_2[1]:\n",
    "            combined_grid['rect_' + str(i)] = (cordinate_1[0], cordinate_1[1], cordinate_1[2] + cordinate_2[2], cordinate_1[3])"
   ]
  },
  {
   "cell_type": "code",
   "execution_count": 57,
   "metadata": {},
   "outputs": [
    {
     "data": {
      "text/plain": [
       "{'prediction_0': 'cat',\n",
       " 'prediction_1': 'cat',\n",
       " 'prediction_10': 'cat',\n",
       " 'prediction_11': 'cat',\n",
       " 'prediction_13': 'dog',\n",
       " 'prediction_15': 'cat',\n",
       " 'prediction_17': 'dog',\n",
       " 'prediction_4': 'cat',\n",
       " 'prediction_5': 'cat',\n",
       " 'prediction_6': 'cat',\n",
       " 'prediction_8': 'dog',\n",
       " 'rect_0': (0, 0, 1024, 512),\n",
       " 'rect_1': (512, 0, 1024, 512),\n",
       " 'rect_10': (0, 1024, 1024, 512),\n",
       " 'rect_11': (512, 1024, 1024, 512),\n",
       " 'rect_13': (1536, 1024, 1024, 512),\n",
       " 'rect_15': (0, 1536, 1024, 512),\n",
       " 'rect_17': (1024, 1536, 1024, 512),\n",
       " 'rect_5': (0, 512, 1024, 512),\n",
       " 'rect_6': (512, 512, 1024, 512),\n",
       " 'rect_8': (1536, 512, 1024, 512)}"
      ]
     },
     "execution_count": 57,
     "metadata": {},
     "output_type": "execute_result"
    }
   ],
   "source": [
    "combined_grid"
   ]
  },
  {
   "cell_type": "code",
   "execution_count": 66,
   "metadata": {},
   "outputs": [
    {
     "data": {
      "text/plain": [
       "<matplotlib.image.AxesImage at 0x274922b6400>"
      ]
     },
     "execution_count": 66,
     "metadata": {},
     "output_type": "execute_result"
    },
    {
     "data": {
      "image/png": "[encoded data removed]",
      "text/plain": [
       "<matplotlib.figure.Figure at 0x27492245400>"
      ]
     },
     "metadata": {},
     "output_type": "display_data"
    }
   ],
   "source": [
    "x,y,w,h = combined_grid['rect_15']\n",
    "image = image_array[y : y + h, x : x + w]\n",
    "plt.imshow(image)"
   ]
  },
  {
   "cell_type": "code",
   "execution_count": null,
   "metadata": {
    "collapsed": true
   },
   "outputs": [],
   "source": [
    "'''\n",
    "Use this method to identify the possible regions and then re run the same GPD algorithm to identify the correct region\n",
    "'''"
   ]
  }
 ],
 "metadata": {
  "kernelspec": {
   "display_name": "Python 3",
   "language": "python",
   "name": "python3"
  },
  "language_info": {
   "codemirror_mode": {
    "name": "ipython",
    "version": 3
   },
   "file_extension": ".py",
   "mimetype": "text/x-python",
   "name": "python",
   "nbconvert_exporter": "python",
   "pygments_lexer": "ipython3",
   "version": "3.5.3"
  }
 },
 "nbformat": 4,
 "nbformat_minor": 2
}
