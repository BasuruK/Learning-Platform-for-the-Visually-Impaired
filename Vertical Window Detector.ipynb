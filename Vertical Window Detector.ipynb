{
 "cells": [
  {
   "cell_type": "code",
   "execution_count": null,
   "metadata": {},
   "outputs": [],
   "source": [
    "import matplotlib.pyplot as plt\n",
    "import numpy as np\n",
    "from PIL import Image\n",
    "import math\n",
    "import skimage.io as imutils\n",
    "%matplotlib inline\n",
    "from keras.models import load_model\n",
    "from keras.preprocessing import image as keras_preprocess"
   ]
  },
  {
   "cell_type": "code",
   "execution_count": null,
   "metadata": {
    "collapsed": true
   },
   "outputs": [],
   "source": [
    "#Image structure = > (Height, Width, Color_Channel)\n",
    "cat_image = Image.open('custom_test/dog.3.jpg')\n",
    "#Load the Classifier\n",
    "classifier = load_model('my_model.h5')\n",
    "\n",
    "# Returns the labels for the classes according to the folder structre of clases\n",
    "def get_labels_for_clases():\n",
    "    #return ['car', 'cat', 'dog', 'shoe']\n",
    "    return ['car' ,'cat', 'dog']\n",
    "\n",
    "# Run prediction for a single image\n",
    "def predict_for_single_image(image):\n",
    "    #lable the images according the folder structure\n",
    "\n",
    "    lables = get_labels_for_clases()\n",
    "    out = classifier.predict_classes(image, verbose=0)\n",
    "    return lables[out[0]]"
   ]
  },
  {
   "cell_type": "code",
   "execution_count": null,
   "metadata": {
    "scrolled": true
   },
   "outputs": [],
   "source": [
    "#save the image cordinates in a dictionary\n",
    "image_cordinates_grid = {}\n",
    "\n",
    "image_dimention_width = cat_image.size[0]\n",
    "image_dimention_height = cat_image.size[1]\n",
    "\n",
    "#if 100 x 100 window were to slide thought the image, identify the parameters for the loop condition\n",
    "slide_window_height_and_width = (600, 600)\n",
    "\n",
    "#Convert the image in to an numpy array\n",
    "image_array = np.array(cat_image)\n",
    "\n",
    "row_count_after_substraction = math.ceil(image_array.shape[0] / slide_window_height_and_width[0])\n",
    "col_count_after_substraction = math.ceil(image_array.shape[1] / slide_window_height_and_width[1])\n",
    "\n",
    "#Initialize x, y, w, h values\n",
    "x, y, w, h = 0, 0, slide_window_height_and_width[1], slide_window_height_and_width[0]\n",
    "count = 0\n",
    "print(\"Image will be transformed in to a\", row_count_after_substraction, \"x\", col_count_after_substraction, \"grid\")\n",
    "for row in range(0, row_count_after_substraction):\n",
    "    for col in range(0, col_count_after_substraction):\n",
    "        \n",
    "        #Change the X and Y locations respectivly to add the sliding window effect.\n",
    "        cropped_image = image_array[y : y + h, x : x + w]\n",
    "        imutils.imsave(\"custom_test/cutted/\" + str(count) + \".jpg\",cropped_image)\n",
    "        image_cordinates_grid['rect' + str(count)] = (x, y, w, h)\n",
    "\n",
    "        cropped_image = keras_preprocess.load_img('custom_test/cutted/' + str(count) + \".jpg\", target_size=((64, 64)))\n",
    "        cropped_image = keras_preprocess.img_to_array(cropped_image)\n",
    "        cropped_image = np.expand_dims(cropped_image, axis=0)\n",
    "        image_cordinates_grid['prediction' + str(count)] = predict_for_single_image(cropped_image)\n",
    "        x = x + w\n",
    "        count = count + 1\n",
    "    x = 0\n",
    "    y = y + h"
   ]
  },
  {
   "cell_type": "code",
   "execution_count": null,
   "metadata": {
    "scrolled": false
   },
   "outputs": [],
   "source": [
    "image_cordinates_grid"
   ]
  },
  {
   "cell_type": "code",
   "execution_count": null,
   "metadata": {
    "collapsed": true
   },
   "outputs": [],
   "source": []
  },
  {
   "cell_type": "code",
   "execution_count": null,
   "metadata": {
    "collapsed": true
   },
   "outputs": [],
   "source": []
  }
 ],
 "metadata": {
  "kernelspec": {
   "display_name": "Python 3",
   "language": "python",
   "name": "python3"
  },
  "language_info": {
   "codemirror_mode": {
    "name": "ipython",
    "version": 3
   },
   "file_extension": ".py",
   "mimetype": "text/x-python",
   "name": "python",
   "nbconvert_exporter": "python",
   "pygments_lexer": "ipython3",
   "version": "3.5.3"
  }
 },
 "nbformat": 4,
 "nbformat_minor": 2
}
