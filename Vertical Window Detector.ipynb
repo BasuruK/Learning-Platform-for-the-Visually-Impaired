{
 "cells": [
  {
   "cell_type": "code",
   "execution_count": null,
   "metadata": {},
   "outputs": [],
   "source": [
    "import matplotlib.pyplot as plt\n",
    "import matplotlib.patches as patches\n",
    "import numpy as np\n",
    "from PIL import Image\n",
    "import math\n",
    "import skimage.io as imutils\n",
    "%matplotlib inline\n",
    "from keras.models import load_model\n",
    "from keras.preprocessing import image as keras_preprocess\n",
    "from keras.preprocessing import image as img\n",
    "import os"
   ]
  },
  {
   "cell_type": "code",
   "execution_count": null,
   "metadata": {
    "collapsed": true
   },
   "outputs": [],
   "source": [
    "#Image structure = > (Height, Width, Color_Channel)\n",
    "cat_image = Image.open('custom_test/dog.6.jpg')\n",
    "#Load the Classifier\n",
    "classifier = load_model('my_model.h5')\n",
    "\n",
    "# Returns the labels for the classes according to the folder structre of clases\n",
    "def get_labels_for_clases():\n",
    "    #return ['car', 'cat', 'dog', 'shoe']\n",
    "    return ['car' ,'cat', 'dog']\n",
    "\n",
    "# Run prediction for a single image\n",
    "def predict_for_single_image(image):\n",
    "    #lable the images according the folder structure\n",
    "\n",
    "    lables = get_labels_for_clases()\n",
    "    out = classifier.predict_classes(image, verbose=0)\n",
    "    return lables[out[0]]\n",
    "\n",
    "#Prepreprocess image    \n",
    "def preprocess_image(cropped_image_array):\n",
    "    cropped_image = Image.fromarray(cropped_image_array)\n",
    "    cropped_image = cropped_image.resize((64,64))\n",
    "    cropped_image = keras_preprocess.img_to_array(cropped_image)\n",
    "    cropped_image = np.expand_dims(cropped_image, axis=0)\n",
    "    return cropped_image"
   ]
  },
  {
   "cell_type": "code",
   "execution_count": null,
   "metadata": {
    "scrolled": true
   },
   "outputs": [],
   "source": [
    "#save the image cordinates in a dictionary\n",
    "image_cordinates_grid = {}\n",
    "\n",
    "#if M x N window were to slide thought the image, identify the parameters for the loop condition\n",
    "slide_window_height_and_width = (256, 256)\n",
    "\n",
    "#Convert the image in to an numpy array\n",
    "image_array = np.array(cat_image)\n",
    "\n",
    "row_count_after_substraction = math.ceil(image_array.shape[0] / slide_window_height_and_width[0])\n",
    "col_count_after_substraction = math.ceil(image_array.shape[1] / slide_window_height_and_width[1])\n",
    "\n",
    "#Initialize x, y, w, h values\n",
    "x, y, w, h = 0, 0, slide_window_height_and_width[1], slide_window_height_and_width[0]\n",
    "count = 0\n",
    "print(\"Image will be transformed in to a\", row_count_after_substraction, \"x\", col_count_after_substraction, \"grid\")\n",
    "for row in range(0, row_count_after_substraction):\n",
    "    for col in range(0, col_count_after_substraction):\n",
    "        \n",
    "        #Change the X and Y locations respectivly to add the sliding window effect.\n",
    "        cropped_image = image_array[y : y + h, x : x + w]\n",
    "        saving_image = cropped_image\n",
    "        image_cordinates_grid[str(count) + '_rect'] = (x, y, w, h)\n",
    "        cropped_image = preprocess_image(cropped_image)\n",
    "        image_cordinates_grid[str(count) + '_prediction'] = predict_for_single_image(cropped_image)\n",
    "        x = x + w\n",
    "        count = count + 1\n",
    "    x = 0\n",
    "    y = y + h"
   ]
  },
  {
   "cell_type": "code",
   "execution_count": null,
   "metadata": {},
   "outputs": [],
   "source": [
    "image_cordinates_grid"
   ]
  },
  {
   "cell_type": "code",
   "execution_count": null,
   "metadata": {
    "scrolled": false
   },
   "outputs": [],
   "source": [
    "#Extract the relevent image cell to its corresponding prediction\n",
    "iteration_size = math.ceil(len(image_cordinates_grid) / 2)\n",
    "combined_grid = {}\n",
    "#Compare adjesent cells for the same prediction and combine them\n",
    "for i in range(0, iteration_size - 1):\n",
    "    if image_cordinates_grid[str(i) + '_prediction'] == image_cordinates_grid[str(i + 1) + '_prediction']:\n",
    "        #Join the regions\n",
    "        cordinate_1 = image_cordinates_grid[str(i) + '_rect']\n",
    "        cordinate_2 = image_cordinates_grid[str(i + 1) + '_rect']\n",
    "        print(\"cordinate_1 : \",cordinate_1)\n",
    "        print(\"cordinate_2 : \",cordinate_2)\n",
    "        #Join in X axis\n",
    "        \n",
    "        if cordinate_1[1] == cordinate_2[1]:\n",
    "           \n",
    "            combined_grid[str(i) + '_rect'] = (cordinate_1[0], cordinate_1[1], cordinate_1[2] + cordinate_2[2], cordinate_1[3])\n",
    "        #Join in Y axix\n",
    "        \n",
    "        if cordinate_1[0] == cordinate_2[0]:\n",
    "            print(\"came to else if\")\n",
    "            combined_grid[str(i) + '_rect'] = (cordinate_1[0], cordinate_1[1],cordinate_1[2], cordinate_1[3] + cordinate_2[3])"
   ]
  },
  {
   "cell_type": "code",
   "execution_count": null,
   "metadata": {},
   "outputs": [],
   "source": [
    "#Order the grid to have identical key numberings\n",
    "combined_grid"
   ]
  },
  {
   "cell_type": "code",
   "execution_count": null,
   "metadata": {
    "collapsed": true
   },
   "outputs": [],
   "source": []
  },
  {
   "cell_type": "code",
   "execution_count": null,
   "metadata": {
    "collapsed": true
   },
   "outputs": [],
   "source": [
    "#Draw bounding boxes on the image from the identified regions"
   ]
  },
  {
   "cell_type": "code",
   "execution_count": null,
   "metadata": {},
   "outputs": [],
   "source": [
    "combined_grid"
   ]
  },
  {
   "cell_type": "code",
   "execution_count": null,
   "metadata": {},
   "outputs": [],
   "source": [
    "fig, ax =plt.subplots(1)\n",
    "\n",
    "ax.imshow(image_array)\n",
    "\n",
    "for key,value in combined_grid.items():\n",
    "    x, y, w, h = value\n",
    "    rect = patches.Rectangle((x, y), w, h, linewidth=2, edgecolor='g', facecolor='none')\n",
    "    ax.add_patch(rect)\n",
    "\n",
    "plt.show()"
   ]
  },
  {
   "cell_type": "code",
   "execution_count": null,
   "metadata": {},
   "outputs": [],
   "source": [
    "bounding_boxes = [len(combined_grid)]\n",
    "\n",
    "for i, (key, value) in enumerate(combined_grid.items()):\n",
    "    x, y, w, h = value\n",
    "    prediction = preprocess_image(image_array[y : y + h, x : x + w])\n",
    "    prediction = predict_for_single_image(prediction)\n",
    "    bounding_boxes.append((prediction, np.array([x, y, w, h])))\n"
   ]
  },
  {
   "cell_type": "code",
   "execution_count": null,
   "metadata": {},
   "outputs": [],
   "source": [
    "for predi, bbox in bounding_boxes[1:]:\n",
    "    print(predi)"
   ]
  },
  {
   "cell_type": "code",
   "execution_count": null,
   "metadata": {
    "collapsed": true
   },
   "outputs": [],
   "source": [
    "#get all bounding boxes to an array\n",
    "boundingbox_array = []\n",
    "\n",
    "for i, (key, value) in enumerate(combined_grid.items()):\n",
    "    x, y , w, h = value\n",
    "    boundingbox_array.append(np.array((x,y,w,h)))\n",
    "    \n",
    "boundingbox_array = np.array(boundingbox_array)"
   ]
  },
  {
   "cell_type": "code",
   "execution_count": null,
   "metadata": {
    "collapsed": true
   },
   "outputs": [],
   "source": []
  },
  {
   "cell_type": "code",
   "execution_count": null,
   "metadata": {
    "collapsed": true
   },
   "outputs": [],
   "source": []
  },
  {
   "cell_type": "code",
   "execution_count": null,
   "metadata": {
    "collapsed": true
   },
   "outputs": [],
   "source": []
  },
  {
   "cell_type": "code",
   "execution_count": null,
   "metadata": {
    "collapsed": true
   },
   "outputs": [],
   "source": [
    "fig, ax =plt.subplots(1)\n",
    "ax.imshow(image_array)\n",
    "\n",
    "for (x,y,w,h) in pick:\n",
    "    rect = patches.Rectangle((x, y), w, h, linewidth=2, edgecolor='g', facecolor='none')\n",
    "    plt.text(x, y, \"dog\")\n",
    "    ax.add_patch(rect)\n",
    "\n",
    "plt.show()"
   ]
  },
  {
   "cell_type": "code",
   "execution_count": 3,
   "metadata": {},
   "outputs": [
    {
     "data": {
      "text/plain": [
       "'b'"
      ]
     },
     "execution_count": 3,
     "metadata": {},
     "output_type": "execute_result"
    }
   ],
   "source": []
  },
  {
   "cell_type": "code",
   "execution_count": 33,
   "metadata": {
    "collapsed": true
   },
   "outputs": [],
   "source": []
  },
  {
   "cell_type": "code",
   "execution_count": 34,
   "metadata": {},
   "outputs": [
    {
     "data": {
      "text/plain": [
       "'#FFFFE0'"
      ]
     },
     "execution_count": 34,
     "metadata": {},
     "output_type": "execute_result"
    }
   ],
   "source": []
  },
  {
   "cell_type": "code",
   "execution_count": null,
   "metadata": {
    "collapsed": true
   },
   "outputs": [],
   "source": []
  }
 ],
 "metadata": {
  "kernelspec": {
   "display_name": "Python 3",
   "language": "python",
   "name": "python3"
  },
  "language_info": {
   "codemirror_mode": {
    "name": "ipython",
    "version": 3
   },
   "file_extension": ".py",
   "mimetype": "text/x-python",
   "name": "python",
   "nbconvert_exporter": "python",
   "pygments_lexer": "ipython3",
   "version": "3.5.3"
  }
 },
 "nbformat": 4,
 "nbformat_minor": 2
}
