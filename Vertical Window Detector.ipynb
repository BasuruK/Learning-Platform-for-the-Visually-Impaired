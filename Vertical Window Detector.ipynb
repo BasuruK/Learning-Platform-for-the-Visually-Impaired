{
 "cells": [
  {
   "cell_type": "code",
   "execution_count": 1,
   "metadata": {},
   "outputs": [
    {
     "name": "stderr",
     "output_type": "stream",
     "text": [
      "Using TensorFlow backend.\n"
     ]
    }
   ],
   "source": [
    "import matplotlib.pyplot as plt\n",
    "import numpy as np\n",
    "from PIL import Image\n",
    "import math\n",
    "import skimage.io as imutils\n",
    "%matplotlib inline\n",
    "from keras.models import load_model\n",
    "from keras.preprocessing import image as keras_preprocess"
   ]
  },
  {
   "cell_type": "code",
   "execution_count": 18,
   "metadata": {
    "collapsed": true
   },
   "outputs": [],
   "source": [
    "#Image structure = > (Height, Width, Color_Channel)\n",
    "cat_image = Image.open('custom_test/dog.3.jpg')\n",
    "#Load the Classifier\n",
    "classifier = load_model('my_model.h5')\n",
    "\n",
    "# Returns the labels for the classes according to the folder structre of clases\n",
    "def get_labels_for_clases():\n",
    "    #return ['car', 'cat', 'dog', 'shoe']\n",
    "    return ['car' ,'cat', 'dog']\n",
    "\n",
    "# Run prediction for a single image\n",
    "def predict_for_single_image(image):\n",
    "    #lable the images according the folder structure\n",
    "\n",
    "    lables = get_labels_for_clases()\n",
    "    out = classifier.predict_classes(image, verbose=0)\n",
    "    return lables[out[0]]"
   ]
  },
  {
   "cell_type": "code",
   "execution_count": 29,
   "metadata": {
    "scrolled": true
   },
   "outputs": [
    {
     "name": "stdout",
     "output_type": "stream",
     "text": [
      "Image will be transformed in to a 5 x 6 grid\n"
     ]
    }
   ],
   "source": [
    "#save the image cordinates in a dictionary\n",
    "image_cordinates_grid = {}\n",
    "\n",
    "image_dimention_width = cat_image.size[0]\n",
    "image_dimention_height = cat_image.size[1]\n",
    "\n",
    "#if 100 x 100 window were to slide thought the image, identify the parameters for the loop condition\n",
    "slide_window_height_and_width = (600, 600)\n",
    "\n",
    "#Convert the image in to an numpy array\n",
    "image_array = np.array(cat_image)\n",
    "\n",
    "row_count_after_substraction = math.ceil(image_array.shape[0] / slide_window_height_and_width[0])\n",
    "col_count_after_substraction = math.ceil(image_array.shape[1] / slide_window_height_and_width[1])\n",
    "\n",
    "#Initialize x, y, w, h values\n",
    "x, y, w, h = 0, 0, slide_window_height_and_width[1], slide_window_height_and_width[0]\n",
    "count = 0\n",
    "print(\"Image will be transformed in to a\", row_count_after_substraction, \"x\", col_count_after_substraction, \"grid\")\n",
    "for row in range(0, row_count_after_substraction):\n",
    "    for col in range(0, col_count_after_substraction):\n",
    "        \n",
    "        #Change the X and Y locations respectivly to add the sliding window effect.\n",
    "        cropped_image = image_array[y : y + h, x : x + w]\n",
    "        imutils.imsave(\"custom_test/cutted/\" + str(count) + \".jpg\",cropped_image)\n",
    "        image_cordinates_grid['rect' + str(count)] = (x, y, w, h)\n",
    "\n",
    "        cropped_image = keras_preprocess.load_img('custom_test/cutted/' + str(count) + \".jpg\", target_size=((64, 64)))\n",
    "        cropped_image = keras_preprocess.img_to_array(cropped_image)\n",
    "        cropped_image = np.expand_dims(cropped_image, axis=0)\n",
    "        image_cordinates_grid['prediction' + str(count)] = predict_for_single_image(cropped_image)\n",
    "        x = x + w\n",
    "        count = count + 1\n",
    "    x = 0\n",
    "    y = y + h"
   ]
  },
  {
   "cell_type": "code",
   "execution_count": 30,
   "metadata": {
    "scrolled": false
   },
   "outputs": [
    {
     "data": {
      "text/plain": [
       "{'prediction0': 'cat',\n",
       " 'prediction1': 'dog',\n",
       " 'prediction10': 'dog',\n",
       " 'prediction11': 'dog',\n",
       " 'prediction12': 'cat',\n",
       " 'prediction13': 'cat',\n",
       " 'prediction14': 'cat',\n",
       " 'prediction15': 'cat',\n",
       " 'prediction16': 'cat',\n",
       " 'prediction17': 'dog',\n",
       " 'prediction18': 'dog',\n",
       " 'prediction19': 'dog',\n",
       " 'prediction2': 'dog',\n",
       " 'prediction20': 'cat',\n",
       " 'prediction21': 'dog',\n",
       " 'prediction22': 'dog',\n",
       " 'prediction23': 'dog',\n",
       " 'prediction24': 'dog',\n",
       " 'prediction25': 'dog',\n",
       " 'prediction26': 'dog',\n",
       " 'prediction27': 'cat',\n",
       " 'prediction28': 'dog',\n",
       " 'prediction29': 'cat',\n",
       " 'prediction3': 'dog',\n",
       " 'prediction4': 'dog',\n",
       " 'prediction5': 'cat',\n",
       " 'prediction6': 'dog',\n",
       " 'prediction7': 'dog',\n",
       " 'prediction8': 'dog',\n",
       " 'prediction9': 'dog',\n",
       " 'rect0': (0, 0, 600, 600),\n",
       " 'rect1': (600, 0, 600, 600),\n",
       " 'rect10': (2400, 600, 600, 600),\n",
       " 'rect11': (3000, 600, 600, 600),\n",
       " 'rect12': (0, 1200, 600, 600),\n",
       " 'rect13': (600, 1200, 600, 600),\n",
       " 'rect14': (1200, 1200, 600, 600),\n",
       " 'rect15': (1800, 1200, 600, 600),\n",
       " 'rect16': (2400, 1200, 600, 600),\n",
       " 'rect17': (3000, 1200, 600, 600),\n",
       " 'rect18': (0, 1800, 600, 600),\n",
       " 'rect19': (600, 1800, 600, 600),\n",
       " 'rect2': (1200, 0, 600, 600),\n",
       " 'rect20': (1200, 1800, 600, 600),\n",
       " 'rect21': (1800, 1800, 600, 600),\n",
       " 'rect22': (2400, 1800, 600, 600),\n",
       " 'rect23': (3000, 1800, 600, 600),\n",
       " 'rect24': (0, 2400, 600, 600),\n",
       " 'rect25': (600, 2400, 600, 600),\n",
       " 'rect26': (1200, 2400, 600, 600),\n",
       " 'rect27': (1800, 2400, 600, 600),\n",
       " 'rect28': (2400, 2400, 600, 600),\n",
       " 'rect29': (3000, 2400, 600, 600),\n",
       " 'rect3': (1800, 0, 600, 600),\n",
       " 'rect4': (2400, 0, 600, 600),\n",
       " 'rect5': (3000, 0, 600, 600),\n",
       " 'rect6': (0, 600, 600, 600),\n",
       " 'rect7': (600, 600, 600, 600),\n",
       " 'rect8': (1200, 600, 600, 600),\n",
       " 'rect9': (1800, 600, 600, 600)}"
      ]
     },
     "execution_count": 30,
     "metadata": {},
     "output_type": "execute_result"
    }
   ],
   "source": [
    "image_cordinates_grid"
   ]
  },
  {
   "cell_type": "code",
   "execution_count": null,
   "metadata": {
    "collapsed": true
   },
   "outputs": [],
   "source": []
  },
  {
   "cell_type": "code",
   "execution_count": null,
   "metadata": {
    "collapsed": true
   },
   "outputs": [],
   "source": []
  }
 ],
 "metadata": {
  "kernelspec": {
   "display_name": "Python 3",
   "language": "python",
   "name": "python3"
  },
  "language_info": {
   "codemirror_mode": {
    "name": "ipython",
    "version": 3
   },
   "file_extension": ".py",
   "mimetype": "text/x-python",
   "name": "python",
   "nbconvert_exporter": "python",
   "pygments_lexer": "ipython3",
   "version": "3.5.3"
  }
 },
 "nbformat": 4,
 "nbformat_minor": 2
}
