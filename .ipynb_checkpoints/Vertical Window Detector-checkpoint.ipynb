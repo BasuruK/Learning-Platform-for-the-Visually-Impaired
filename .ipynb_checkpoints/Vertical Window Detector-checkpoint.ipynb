{
 "cells": [
  {
   "cell_type": "code",
   "execution_count": 1,
   "metadata": {},
   "outputs": [
    {
     "name": "stderr",
     "output_type": "stream",
     "text": [
      "Using TensorFlow backend.\n"
     ]
    }
   ],
   "source": [
    "import matplotlib.pyplot as plt\n",
    "import numpy as np\n",
    "from PIL import Image\n",
    "import math\n",
    "import skimage.io as imutils\n",
    "%matplotlib inline\n",
    "from keras.models import load_model\n",
    "from keras.preprocessing import image as keras_preprocess\n",
    "from keras.preprocessing import image as img\n",
    "import os"
   ]
  },
  {
   "cell_type": "code",
   "execution_count": 2,
   "metadata": {
    "collapsed": true
   },
   "outputs": [],
   "source": [
    "#Image structure = > (Height, Width, Color_Channel)\n",
    "cat_image = Image.open('custom_test/dog.6.jpg')\n",
    "#Load the Classifier\n",
    "classifier = load_model('my_model.h5')\n",
    "\n",
    "# Returns the labels for the classes according to the folder structre of clases\n",
    "def get_labels_for_clases():\n",
    "    #return ['car', 'cat', 'dog', 'shoe']\n",
    "    return ['car' ,'cat', 'dog']\n",
    "\n",
    "# Run prediction for a single image\n",
    "def predict_for_single_image(image):\n",
    "    #lable the images according the folder structure\n",
    "\n",
    "    lables = get_labels_for_clases()\n",
    "    out = classifier.predict_classes(image, verbose=0)\n",
    "    return lables[out[0]]\n",
    "\n",
    "#Prepreprocess image    \n",
    "def preprocess_image(file_path):\n",
    "    cropped_image = keras_preprocess.load_img(file_path, target_size=((64, 64)))\n",
    "    cropped_image = keras_preprocess.img_to_array(cropped_image)\n",
    "    cropped_image = np.expand_dims(cropped_image, axis=0)\n",
    "    return cropped_image"
   ]
  },
  {
   "cell_type": "code",
   "execution_count": null,
   "metadata": {
    "scrolled": true
   },
   "outputs": [],
   "source": [
    "#save the image cordinates in a dictionary\n",
    "image_cordinates_grid = {}\n",
    "\n",
    "image_dimention_width = cat_image.size[0]\n",
    "image_dimention_height = cat_image.size[1]\n",
    "\n",
    "#if 100 x 100 window were to slide thought the image, identify the parameters for the loop condition\n",
    "slide_window_height_and_width = (256, 256)\n",
    "\n",
    "#Convert the image in to an numpy array\n",
    "image_array = np.array(cat_image)\n",
    "\n",
    "row_count_after_substraction = math.ceil(image_array.shape[0] / slide_window_height_and_width[0])\n",
    "col_count_after_substraction = math.ceil(image_array.shape[1] / slide_window_height_and_width[1])\n",
    "\n",
    "#Initialize x, y, w, h values\n",
    "x, y, w, h = 0, 0, slide_window_height_and_width[1], slide_window_height_and_width[0]\n",
    "count = 0\n",
    "print(\"Image will be transformed in to a\", row_count_after_substraction, \"x\", col_count_after_substraction, \"grid\")\n",
    "for row in range(0, row_count_after_substraction):\n",
    "    for col in range(0, col_count_after_substraction):\n",
    "        \n",
    "        #Change the X and Y locations respectivly to add the sliding window effect.\n",
    "        cropped_image = image_array[y : y + h, x : x + w]\n",
    "        saving_image = cropped_image\n",
    "        #Save the image\n",
    "        imutils.imsave(\"custom_test/cutted/\" + str(count) + \".jpg\",cropped_image)\n",
    "        image_cordinates_grid[str(count) + '_rect'] = (x, y, w, h)\n",
    "\n",
    "        cropped_image = preprocess_image('custom_test/cutted/' + str(count) + \".jpg\")\n",
    "        image_cordinates_grid[str(count) + '_prediction'] = predict_for_single_image(cropped_image)\n",
    "        \n",
    "        #Delete existing image\n",
    "        os.remove(\"custom_test/cutted/\" + str(count) + \".jpg\")\n",
    "        #Lable image\n",
    "        imutils.imsave(\"custom_test/cutted/\" + str(count) + \"_\" + predict_for_single_image(cropped_image) + \".jpg\",saving_image)\n",
    "        x = x + w\n",
    "        count = count + 1\n",
    "    x = 0\n",
    "    y = y + h"
   ]
  },
  {
   "cell_type": "code",
   "execution_count": null,
   "metadata": {},
   "outputs": [],
   "source": [
    "image_cordinates_grid"
   ]
  },
  {
   "cell_type": "code",
   "execution_count": null,
   "metadata": {
    "scrolled": false
   },
   "outputs": [],
   "source": [
    "#Extract the relevent image cell to its corresponding prediction\n",
    "iteration_size = math.ceil(len(image_cordinates_grid) / 2)\n",
    "combined_grid = {}\n",
    "#Compare adjesent cells for the same prediction and combine them\n",
    "for i in range(0, iteration_size - 1):\n",
    "    if image_cordinates_grid[str(i) + '_prediction'] == image_cordinates_grid[str(i + 1) + '_prediction']:\n",
    "        #Join the regions\n",
    "        cordinate_1 = image_cordinates_grid[str(i) + '_rect']\n",
    "        cordinate_2 = image_cordinates_grid[str(i + 1) + '_rect']\n",
    "        print(\"cordinate_1 : \",cordinate_1)\n",
    "        print(\"cordinate_2 : \",cordinate_2)\n",
    "        #Join in X axis\n",
    "        print(\"Y same Checking if cordinate_1[1] == cordinate_2[1]\",cordinate_1[1] , cordinate_2[1])\n",
    "        if cordinate_1[1] == cordinate_2[1]:\n",
    "            print(\"Came to If\")\n",
    "            combined_grid[str(i) + '_rect'] = (cordinate_1[0], cordinate_1[1], cordinate_1[2] + cordinate_2[2], cordinate_1[3])\n",
    "        #Join in Y axix\n",
    "        print(\"X same Checking if cordinate_1[0] == cordinate_2[0]\",cordinate_1[0] , cordinate_2[0])\n",
    "        if cordinate_1[0] == cordinate_2[0]:\n",
    "            print(\"came to else if\")\n",
    "            combined_grid[str(i) + '_rect'] = (cordinate_1[0], cordinate_1[1],cordinate_1[2], cordinate_1[3] + cordinate_2[3])"
   ]
  },
  {
   "cell_type": "code",
   "execution_count": null,
   "metadata": {},
   "outputs": [],
   "source": [
    "#Order the grid to have identical key numberings\n",
    "combined_grid"
   ]
  },
  {
   "cell_type": "code",
   "execution_count": null,
   "metadata": {
    "collapsed": true
   },
   "outputs": [],
   "source": [
    "#Clean Directory\n",
    "[os.remove(\"custom_test/cutted/\"+ x) for x in os.listdir(\"custom_test/cutted/\")]\n",
    "\n",
    "#Run the 2nd wave predictions for the combined images\n",
    "for i, (key, value) in enumerate(combined_grid.items()):\n",
    "    x, y, w, h = value\n",
    "    image = image_array[y : y + h, x : x + w]\n",
    "    path = \"custom_test/cutted/\" + str(i) + \".jpg\"\n",
    "    imutils.imsave(path ,image)\n",
    "    \n",
    "    pred = predict_for_single_image(preprocess_image(path))\n",
    "    os.remove(path)\n",
    "    imutils.imsave(\"custom_test/cutted/\" + str(i) + pred + \".jpg\",image)"
   ]
  },
  {
   "cell_type": "code",
   "execution_count": null,
   "metadata": {
    "collapsed": true
   },
   "outputs": [],
   "source": [
    "#Draw bounding boxes on the image from the identified regions"
   ]
  },
  {
   "cell_type": "code",
   "execution_count": null,
   "metadata": {},
   "outputs": [],
   "source": [
    "combined_grid"
   ]
  },
  {
   "cell_type": "code",
   "execution_count": null,
   "metadata": {
    "collapsed": true
   },
   "outputs": [],
   "source": []
  }
 ],
 "metadata": {
  "kernelspec": {
   "display_name": "Python 3",
   "language": "python",
   "name": "python3"
  },
  "language_info": {
   "codemirror_mode": {
    "name": "ipython",
    "version": 3
   },
   "file_extension": ".py",
   "mimetype": "text/x-python",
   "name": "python",
   "nbconvert_exporter": "python",
   "pygments_lexer": "ipython3",
   "version": "3.5.3"
  }
 },
 "nbformat": 4,
 "nbformat_minor": 2
}
