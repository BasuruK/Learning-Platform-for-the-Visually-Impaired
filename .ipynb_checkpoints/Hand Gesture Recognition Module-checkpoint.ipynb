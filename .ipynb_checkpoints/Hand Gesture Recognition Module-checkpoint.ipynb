{
 "cells": [
  {
   "cell_type": "code",
   "execution_count": 19,
   "metadata": {},
   "outputs": [
    {
     "name": "stdout",
     "output_type": "stream",
     "text": [
      "No Contours Found\n",
      "No Contours Found\n",
      "No Contours Found\n",
      "No Contours Found\n",
      "No Contours Found\n",
      "No Contours Found\n",
      "No Contours Found\n",
      "No Contours Found\n"
     ]
    }
   ],
   "source": [
    "import cv2\n",
    "import numpy as np\n",
    "import copy\n",
    "\n",
    "threshold = 20\n",
    "blurvalue = 9\n",
    "subthreshold = 20\n",
    "\n",
    "def get_max_contour(contours):\n",
    "    # Returns the contour with maximum area\n",
    "    length = len(contours)\n",
    "    maxArea = -1\n",
    "    ci= - 1\n",
    "    if length > 0:\n",
    "        for i in range(length):\n",
    "            temp = contours[i]\n",
    "            area = cv2.contourArea(temp)\n",
    "            if area > maxArea:\n",
    "                maxArea = area\n",
    "                ci = i\n",
    "    return ci\n",
    "\n",
    "\n",
    "cap = cv2.VideoCapture(0)\n",
    "bg_model = cv2.createBackgroundSubtractorKNN(0, subthreshold, detectShadows=False)\n",
    "\n",
    "while True:\n",
    "    \n",
    "    ret, frame = cap.read()\n",
    "    \n",
    "    frame = cv2.flip(frame,1)\n",
    "       \n",
    "    gray = cv2.cvtColor(frame, cv2.COLOR_BGR2GRAY)\n",
    "    \n",
    "    blur = cv2.GaussianBlur(gray, (blurvalue, blurvalue), 0)\n",
    "        \n",
    "    foreground_mask = bg_model.apply(blur)\n",
    "    \n",
    "    res = cv2.bitwise_and(blur, blur, mask=foreground_mask)\n",
    "    \n",
    "    ret, thresh = cv2.threshold(res, threshold, 255, cv2.THRESH_BINARY)\n",
    "    \n",
    "    \n",
    "    #contor Detection\n",
    "    thresh1 = copy.deepcopy(thresh)\n",
    "    \n",
    "    im2, contours, hierarchy = cv2.findContours(thresh1, cv2.RETR_TREE, cv2.CHAIN_APPROX_NONE)\n",
    "    \n",
    "    #Find Max Contour \n",
    "    try:\n",
    "        max_index = get_max_contour(contours)\n",
    "        res = contours[max_index]\n",
    "        hull = cv2.convexHull(res)\n",
    "    \n",
    "        cv2.drawContours(frame, [hull], -1, (0,255,0) ,3)\n",
    "        cv2.drawContours(frame, [res], -1, (255,150,0) ,3)\n",
    "    except IndexError:\n",
    "        print(\"No Contours Found\")\n",
    "\n",
    "    \n",
    "    cv2.namedWindow('Frame', cv2.WINDOW_NORMAL)\n",
    "    \n",
    "    cv2.resizeWindow('Frame', 1024, 768)\n",
    "    \n",
    "    cv2.imshow('Frame', thresh)\n",
    "    \n",
    "    if(cv2.waitKey(1) == 13):\n",
    "        break\n",
    "\n",
    "cap.release()\n",
    "cv2.destroyAllWindows()"
   ]
  },
  {
   "cell_type": "code",
   "execution_count": null,
   "metadata": {},
   "outputs": [],
   "source": []
  },
  {
   "cell_type": "code",
   "execution_count": null,
   "metadata": {
    "collapsed": true
   },
   "outputs": [],
   "source": []
  }
 ],
 "metadata": {
  "kernelspec": {
   "display_name": "Python 3",
   "language": "python",
   "name": "python3"
  },
  "language_info": {
   "codemirror_mode": {
    "name": "ipython",
    "version": 3
   },
   "file_extension": ".py",
   "mimetype": "text/x-python",
   "name": "python",
   "nbconvert_exporter": "python",
   "pygments_lexer": "ipython3",
   "version": "3.5.3"
  }
 },
 "nbformat": 4,
 "nbformat_minor": 2
}
